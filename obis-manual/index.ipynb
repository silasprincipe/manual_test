{
  "cells": [
    {
      "cell_type": "markdown",
      "metadata": {},
      "source": [
        "``` {html}\n",
        "<style>\n",
        "#title-block-header {\n",
        "    display: none;\n",
        "    margin-block-end: 1rem;\n",
        "    position: relative;\n",
        "    margin-top: -1px;\n",
        "}\n",
        "</style>\n",
        "```\n",
        "\n",
        "\n",
        "\n",
        "# Making better use of OBIS data {.unnumbered}\n",
        "\n",
        "OBIS is not just a repository for biodiversity data. It's also a community of practice that want to leverage the use of ocean biodiversity data. Here you will find tutorials and tools to help you make better use of data from OBIS (and other resources).\n",
        "\n",
        "You can contribute with tutorials following the guidelines available [at our repository](https://github.com/iobis/resources).\n",
        "\n",
        "Don't know where to start? We suggest reading the [OBIS manual](https://manual.obis.org/) where you will find the most complete guide about how OBIS works and the different types of data available.\n",
        "\n",
        "Check also the available [packages and pipelines](https://resources.obis.org/packages/) for R and other languages, and [our tool](https://resources.obis.org/find-your-dwc/) to find the right Darwin Core schema for your data."
      ],
      "id": "d1249b66"
    }
  ],
  "metadata": {
    "kernelspec": {
      "display_name": "Python 3",
      "language": "python",
      "name": "python3"
    }
  },
  "nbformat": 4,
  "nbformat_minor": 5
}